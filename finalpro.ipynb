{
 "cells": [
  {
   "cell_type": "markdown",
   "id": "cc7870b0-29a3-4678-93ae-d547560d6b51",
   "metadata": {},
   "source": [
    "# Final project"
   ]
  },
  {
   "cell_type": "code",
   "execution_count": 22,
   "id": "019aa3a2-df6b-4a49-8ba8-dbb1ed78344b",
   "metadata": {},
   "outputs": [],
   "source": [
    "import geopandas\n",
    "import pandas\n",
    "\n",
    "import pathlib"
   ]
  },
  {
   "cell_type": "code",
   "execution_count": 23,
   "id": "211af1ea-92b3-4e0f-96dc-2926a0c2d9ce",
   "metadata": {},
   "outputs": [],
   "source": [
    "# downloading data\n",
    "\n",
    "\n",
    "NOTEBOOK_PATH = pathlib.Path().resolve()\n",
    "DATA_DIRECTORY = NOTEBOOK_PATH / \"data\" \n",
    "\n",
    "# Read file using gpd.read_file()\n",
    "bird_data = geopandas.read_file(DATA_DIRECTORY / \"HBF_107404_geo.gpkg\")"
   ]
  },
  {
   "cell_type": "code",
   "execution_count": 24,
   "id": "67a650f1-cb5f-4054-8c29-0f70c633a0aa",
   "metadata": {},
   "outputs": [
    {
     "data": {
      "text/html": [
       "<div>\n",
       "<style scoped>\n",
       "    .dataframe tbody tr th:only-of-type {\n",
       "        vertical-align: middle;\n",
       "    }\n",
       "\n",
       "    .dataframe tbody tr th {\n",
       "        vertical-align: top;\n",
       "    }\n",
       "\n",
       "    .dataframe thead th {\n",
       "        text-align: right;\n",
       "    }\n",
       "</style>\n",
       "<table border=\"1\" class=\"dataframe\">\n",
       "  <thead>\n",
       "    <tr style=\"text-align: right;\">\n",
       "      <th></th>\n",
       "      <th>record_id</th>\n",
       "      <th>record_order</th>\n",
       "      <th>reported_name</th>\n",
       "      <th>record_issue</th>\n",
       "      <th>record_issue_source</th>\n",
       "      <th>record_issue_message</th>\n",
       "      <th>reported_taxon_confidence</th>\n",
       "      <th>taxon_id</th>\n",
       "      <th>taxonomic_order</th>\n",
       "      <th>scientific_name_interpreted</th>\n",
       "      <th>...</th>\n",
       "      <th>document_notes</th>\n",
       "      <th>document_media_count</th>\n",
       "      <th>record_fact__Havainnon_laatu</th>\n",
       "      <th>record_fact__Havainnon_määrän_yksikkö</th>\n",
       "      <th>record_fact__Museo_johon_lajista_kerätty_näyte_on_talletettu</th>\n",
       "      <th>event_fact__Vesistöalue</th>\n",
       "      <th>event_fact__Sijainnin_tarkkuusluokka</th>\n",
       "      <th>event_fact__Pesintätulos</th>\n",
       "      <th>document_fact__Seurattava_laji</th>\n",
       "      <th>geometry</th>\n",
       "    </tr>\n",
       "  </thead>\n",
       "  <tbody>\n",
       "    <tr>\n",
       "      <th>0</th>\n",
       "      <td>http://tun.fi/KE.67/10388317#Unit</td>\n",
       "      <td>0</td>\n",
       "      <td>TURPIL</td>\n",
       "      <td>None</td>\n",
       "      <td>None</td>\n",
       "      <td>None</td>\n",
       "      <td>None</td>\n",
       "      <td>http://tun.fi/MX.33117</td>\n",
       "      <td>12285</td>\n",
       "      <td>Turdus pilaris</td>\n",
       "      <td>...</td>\n",
       "      <td>None</td>\n",
       "      <td>0</td>\n",
       "      <td>None</td>\n",
       "      <td>None</td>\n",
       "      <td>None</td>\n",
       "      <td>None</td>\n",
       "      <td>None</td>\n",
       "      <td>None</td>\n",
       "      <td>None</td>\n",
       "      <td>POINT (381127.804 6783003.343)</td>\n",
       "    </tr>\n",
       "    <tr>\n",
       "      <th>1</th>\n",
       "      <td>http://tun.fi/KE.67/10388318#Unit</td>\n",
       "      <td>0</td>\n",
       "      <td>TURPIL</td>\n",
       "      <td>None</td>\n",
       "      <td>None</td>\n",
       "      <td>None</td>\n",
       "      <td>None</td>\n",
       "      <td>http://tun.fi/MX.33117</td>\n",
       "      <td>12285</td>\n",
       "      <td>Turdus pilaris</td>\n",
       "      <td>...</td>\n",
       "      <td>None</td>\n",
       "      <td>0</td>\n",
       "      <td>None</td>\n",
       "      <td>None</td>\n",
       "      <td>None</td>\n",
       "      <td>None</td>\n",
       "      <td>None</td>\n",
       "      <td>None</td>\n",
       "      <td>None</td>\n",
       "      <td>POINT (381127.804 6783003.343)</td>\n",
       "    </tr>\n",
       "  </tbody>\n",
       "</table>\n",
       "<p>2 rows × 123 columns</p>\n",
       "</div>"
      ],
      "text/plain": [
       "                           record_id  record_order reported_name record_issue  \\\n",
       "0  http://tun.fi/KE.67/10388317#Unit             0        TURPIL         None   \n",
       "1  http://tun.fi/KE.67/10388318#Unit             0        TURPIL         None   \n",
       "\n",
       "  record_issue_source record_issue_message reported_taxon_confidence  \\\n",
       "0                None                 None                      None   \n",
       "1                None                 None                      None   \n",
       "\n",
       "                 taxon_id taxonomic_order scientific_name_interpreted  ...  \\\n",
       "0  http://tun.fi/MX.33117           12285              Turdus pilaris  ...   \n",
       "1  http://tun.fi/MX.33117           12285              Turdus pilaris  ...   \n",
       "\n",
       "  document_notes document_media_count record_fact__Havainnon_laatu  \\\n",
       "0           None                    0                         None   \n",
       "1           None                    0                         None   \n",
       "\n",
       "  record_fact__Havainnon_määrän_yksikkö  \\\n",
       "0                                  None   \n",
       "1                                  None   \n",
       "\n",
       "  record_fact__Museo_johon_lajista_kerätty_näyte_on_talletettu  \\\n",
       "0                                               None             \n",
       "1                                               None             \n",
       "\n",
       "  event_fact__Vesistöalue event_fact__Sijainnin_tarkkuusluokka  \\\n",
       "0                    None                                 None   \n",
       "1                    None                                 None   \n",
       "\n",
       "  event_fact__Pesintätulos document_fact__Seurattava_laji  \\\n",
       "0                     None                           None   \n",
       "1                     None                           None   \n",
       "\n",
       "                         geometry  \n",
       "0  POINT (381127.804 6783003.343)  \n",
       "1  POINT (381127.804 6783003.343)  \n",
       "\n",
       "[2 rows x 123 columns]"
      ]
     },
     "execution_count": 24,
     "metadata": {},
     "output_type": "execute_result"
    }
   ],
   "source": [
    "bird_data.head(2)"
   ]
  },
  {
   "cell_type": "code",
   "execution_count": 25,
   "id": "097cdec6-f675-4033-9415-faeb50e2aeaf",
   "metadata": {},
   "outputs": [
    {
     "data": {
      "text/plain": [
       "record_id                               21488\n",
       "record_order                            21488\n",
       "reported_name                           21488\n",
       "record_issue                                0\n",
       "record_issue_source                         0\n",
       "                                        ...  \n",
       "event_fact__Vesistöalue                     0\n",
       "event_fact__Sijainnin_tarkkuusluokka        0\n",
       "event_fact__Pesintätulos                    0\n",
       "document_fact__Seurattava_laji              0\n",
       "geometry                                21488\n",
       "Length: 123, dtype: int64"
      ]
     },
     "execution_count": 25,
     "metadata": {},
     "output_type": "execute_result"
    }
   ],
   "source": [
    "bird_data.count()"
   ]
  },
  {
   "cell_type": "code",
   "execution_count": 26,
   "id": "69f4623b-9da7-4c8d-8b06-aefaef6b1601",
   "metadata": {},
   "outputs": [
    {
     "name": "stdout",
     "output_type": "stream",
     "text": [
      "['record_id', 'record_order', 'reported_name', 'record_issue', 'record_issue_source', 'record_issue_message', 'reported_taxon_confidence', 'taxon_id', 'taxonomic_order', 'scientific_name_interpreted', 'common_name_finnish', 'common_name_english', 'common_name_swedish', 'red_list_status', 'threatened_status', 'regulatory_status_finnish', 'informal_groups_finnish', 'informal_groups_english', 'taxon_checklist', 'abundance_verbatim', 'abundance_unit', 'annotated_taxon_id', 'abundance_interpreted', 'pair_abundance', 'invasive_control_class', 'record_quality', 'record_derived_tags', 'superrecord_basis', 'record_basis', 'type_specimen', 'determiner', 'sex', 'life_stage', 'is_wild', 'is_alive', 'local', 'record_keywords', 'is_breeding_location', 'plant_status_code', 'atlas_code_id', 'atlas_class_id', 'individual_id', 'record_notes', 'record_annotation_count', 'record_media_count', 'sample_count', 'event_id', 'event_order', 'section', 'event_issue', 'event_issue_source', 'event_issue_message', 'time_issue', 'time_issue_source', 'time_issue_message', 'location_issue', 'location_issue_source', 'location_issue_message', 'date_start', 'date_end', 'hour_start', 'hour_end', 'formatted_date_time', 'team', 'lat_10_ykj', 'lon_10_ykj', 'lat_1_ykj', 'lon_1_ykj', 'century', 'decade', 'year', 'month', 'day', 'ordinal_day_start', 'ordinal_day_end', 'coordinates_uncertainty_interpreted', 'coordinates_source', 'country_id', 'bio_province_interpreted', 'municipality', 'country_source', 'bio_province_source', 'municipality_source', 'state_land', 'accurate_area', 'higher_geography', 'country_verbatim', 'municipality_verbatim', 'province_verbatim', 'region_verbatim', 'locality', 'event_notes', 'event_media_count', 'document_id', 'restriction_level', 'restriction_reason', 'is_partial', 'collection_id', 'license', 'data_source', 'collection_quality', 'document_issue', 'document_issue_source', 'document_issue_message', 'source_id', 'location_id', 'site_type', 'site_status', 'document_keywords', 'first_load_date', 'load_date', 'date_created', 'modified_date', 'document_notes', 'document_media_count', 'record_fact__Havainnon_laatu', 'record_fact__Havainnon_määrän_yksikkö', 'record_fact__Museo_johon_lajista_kerätty_näyte_on_talletettu', 'event_fact__Vesistöalue', 'event_fact__Sijainnin_tarkkuusluokka', 'event_fact__Pesintätulos', 'document_fact__Seurattava_laji', 'geometry']\n",
      "['date_start', 'date_end', 'formatted_date_time', 'first_load_date', 'load_date', 'date_created', 'modified_date']\n"
     ]
    }
   ],
   "source": [
    "# bird_data[\"date_begin\"]\n",
    "\n",
    "the_cols = [col for col in bird_data.columns if 'date' in col]\n",
    "print(list(bird_data.columns))\n",
    "print(the_cols)"
   ]
  },
  {
   "cell_type": "code",
   "execution_count": 27,
   "id": "95ce41ef-be39-49eb-8dc6-cb4ae327d01e",
   "metadata": {},
   "outputs": [],
   "source": [
    "bird_data_clean = bird_data[[\"record_id\", \"record_order\", \"reported_name\", \"scientific_name_interpreted\", 'common_name_english', 'date_start', 'date_end', 'formatted_date_time', 'year', \"geometry\"]]"
   ]
  },
  {
   "cell_type": "code",
   "execution_count": 29,
   "id": "2853c574-b3d0-45a8-ae8f-3de8989a907b",
   "metadata": {},
   "outputs": [
    {
     "data": {
      "text/html": [
       "<div>\n",
       "<style scoped>\n",
       "    .dataframe tbody tr th:only-of-type {\n",
       "        vertical-align: middle;\n",
       "    }\n",
       "\n",
       "    .dataframe tbody tr th {\n",
       "        vertical-align: top;\n",
       "    }\n",
       "\n",
       "    .dataframe thead th {\n",
       "        text-align: right;\n",
       "    }\n",
       "</style>\n",
       "<table border=\"1\" class=\"dataframe\">\n",
       "  <thead>\n",
       "    <tr style=\"text-align: right;\">\n",
       "      <th></th>\n",
       "      <th>record_id</th>\n",
       "      <th>record_order</th>\n",
       "      <th>reported_name</th>\n",
       "      <th>scientific_name_interpreted</th>\n",
       "      <th>common_name_english</th>\n",
       "      <th>date_start</th>\n",
       "      <th>date_end</th>\n",
       "      <th>formatted_date_time</th>\n",
       "      <th>year</th>\n",
       "      <th>geometry</th>\n",
       "    </tr>\n",
       "  </thead>\n",
       "  <tbody>\n",
       "    <tr>\n",
       "      <th>0</th>\n",
       "      <td>http://tun.fi/KE.67/10388317#Unit</td>\n",
       "      <td>0</td>\n",
       "      <td>TURPIL</td>\n",
       "      <td>Turdus pilaris</td>\n",
       "      <td>Fieldfare</td>\n",
       "      <td>2015-06-02</td>\n",
       "      <td>2015-06-02</td>\n",
       "      <td>2015-06-02 [8]</td>\n",
       "      <td>2015</td>\n",
       "      <td>POINT (381127.804 6783003.343)</td>\n",
       "    </tr>\n",
       "    <tr>\n",
       "      <th>1</th>\n",
       "      <td>http://tun.fi/KE.67/10388318#Unit</td>\n",
       "      <td>0</td>\n",
       "      <td>TURPIL</td>\n",
       "      <td>Turdus pilaris</td>\n",
       "      <td>Fieldfare</td>\n",
       "      <td>2015-06-02</td>\n",
       "      <td>2015-06-02</td>\n",
       "      <td>2015-06-02 [12]</td>\n",
       "      <td>2015</td>\n",
       "      <td>POINT (381127.804 6783003.343)</td>\n",
       "    </tr>\n",
       "    <tr>\n",
       "      <th>2</th>\n",
       "      <td>http://tun.fi/KE.67/10388319#Unit</td>\n",
       "      <td>0</td>\n",
       "      <td>TURPIL</td>\n",
       "      <td>Turdus pilaris</td>\n",
       "      <td>Fieldfare</td>\n",
       "      <td>2015-06-02</td>\n",
       "      <td>2015-06-02</td>\n",
       "      <td>2015-06-02 [12]</td>\n",
       "      <td>2015</td>\n",
       "      <td>POINT (381127.804 6783003.343)</td>\n",
       "    </tr>\n",
       "    <tr>\n",
       "      <th>3</th>\n",
       "      <td>http://tun.fi/KE.67/10394498#Unit</td>\n",
       "      <td>0</td>\n",
       "      <td>TURPIL</td>\n",
       "      <td>Turdus pilaris</td>\n",
       "      <td>Fieldfare</td>\n",
       "      <td>2015-06-02</td>\n",
       "      <td>2015-06-02</td>\n",
       "      <td>2015-06-02</td>\n",
       "      <td>2015</td>\n",
       "      <td>POINT (391791.613 6671570.333)</td>\n",
       "    </tr>\n",
       "    <tr>\n",
       "      <th>4</th>\n",
       "      <td>http://tun.fi/KE.67/10394499#Unit</td>\n",
       "      <td>0</td>\n",
       "      <td>TURMER</td>\n",
       "      <td>Turdus merula</td>\n",
       "      <td>Common Blackbird</td>\n",
       "      <td>2015-06-07</td>\n",
       "      <td>2015-06-07</td>\n",
       "      <td>2015-06-07</td>\n",
       "      <td>2015</td>\n",
       "      <td>POINT (390811.648 6669742.101)</td>\n",
       "    </tr>\n",
       "  </tbody>\n",
       "</table>\n",
       "</div>"
      ],
      "text/plain": [
       "                           record_id  record_order reported_name  \\\n",
       "0  http://tun.fi/KE.67/10388317#Unit             0        TURPIL   \n",
       "1  http://tun.fi/KE.67/10388318#Unit             0        TURPIL   \n",
       "2  http://tun.fi/KE.67/10388319#Unit             0        TURPIL   \n",
       "3  http://tun.fi/KE.67/10394498#Unit             0        TURPIL   \n",
       "4  http://tun.fi/KE.67/10394499#Unit             0        TURMER   \n",
       "\n",
       "  scientific_name_interpreted common_name_english  date_start    date_end  \\\n",
       "0              Turdus pilaris           Fieldfare  2015-06-02  2015-06-02   \n",
       "1              Turdus pilaris           Fieldfare  2015-06-02  2015-06-02   \n",
       "2              Turdus pilaris           Fieldfare  2015-06-02  2015-06-02   \n",
       "3              Turdus pilaris           Fieldfare  2015-06-02  2015-06-02   \n",
       "4               Turdus merula    Common Blackbird  2015-06-07  2015-06-07   \n",
       "\n",
       "  formatted_date_time  year                        geometry  \n",
       "0      2015-06-02 [8]  2015  POINT (381127.804 6783003.343)  \n",
       "1     2015-06-02 [12]  2015  POINT (381127.804 6783003.343)  \n",
       "2     2015-06-02 [12]  2015  POINT (381127.804 6783003.343)  \n",
       "3          2015-06-02  2015  POINT (391791.613 6671570.333)  \n",
       "4          2015-06-07  2015  POINT (390811.648 6669742.101)  "
      ]
     },
     "execution_count": 29,
     "metadata": {},
     "output_type": "execute_result"
    }
   ],
   "source": [
    "bird_data_clean.head()"
   ]
  },
  {
   "cell_type": "code",
   "execution_count": 30,
   "id": "92941322-7165-43fb-92ae-a432b7c59c7c",
   "metadata": {},
   "outputs": [
    {
     "data": {
      "text/plain": [
       "array(['Turdus pilaris', 'Turdus merula', 'Turdus iliacus',\n",
       "       'Turdus philomelos', 'Turdus viscivorus', 'Turdus torquatus'],\n",
       "      dtype=object)"
      ]
     },
     "execution_count": 30,
     "metadata": {},
     "output_type": "execute_result"
    }
   ],
   "source": [
    "bird_data_clean[\"scientific_name_interpreted\"].unique()"
   ]
  },
  {
   "cell_type": "code",
   "execution_count": 31,
   "id": "ef7f8575-bbc4-4c5e-b3cc-67114972f2ce",
   "metadata": {},
   "outputs": [
    {
     "data": {
      "text/plain": [
       "<Axes: >"
      ]
     },
     "execution_count": 31,
     "metadata": {},
     "output_type": "execute_result"
    },
    {
     "data": {
      "image/png": "[encoded data removed]",
      "text/plain": [
       "<Figure size 640x480 with 1 Axes>"
      ]
     },
     "metadata": {},
     "output_type": "display_data"
    }
   ],
   "source": [
    "import matplotlib.pyplot as plt\n",
    "\n",
    "bird_data_clean.plot(column=\"scientific_name_interpreted\")"
   ]
  },
  {
   "cell_type": "code",
   "execution_count": null,
   "id": "e0a9ee0f-81dd-475f-ae20-40870cbe700d",
   "metadata": {},
   "outputs": [],
   "source": []
  },
  {
   "cell_type": "code",
   "execution_count": null,
   "id": "a253d477-9793-4770-a36f-34b8f5b23932",
   "metadata": {},
   "outputs": [],
   "source": [
    "# pie chart\n",
    "import plotly.express as px\n",
    "\n",
    "fig = px.pie(bird_data_clean, names=\"scientific_name_interpreted\", values=\"\",\n",
    "              title='Turdus species in Finland in 2024')\n"
   ]
  },
  {
   "cell_type": "code",
   "execution_count": null,
   "id": "a724ba73-2cbd-46ca-82da-c7faf1ab1e83",
   "metadata": {},
   "outputs": [],
   "source": [
    "# code\n",
    "\n",
    "# plot\n",
    "# a pie chart showing the different Turdus species in 2024 \"observations of birds ringed in Finland \n",
    "# and reported encounters of the birds\"\n",
    "\n",
    "# Aggregate by year\n",
    "#sq_data_year = sq_data.groupby('year').size().reset_index(name='Occurrences')\n",
    "\n",
    "\n",
    "# Create a time series line chart to visualize the trend over the years\n",
    "fig = px.pie(sq_data_year, names=\"\", values=\"\",\n",
    "              title='Turdus species in Finland in 2024',\n",
    "              labels={'year': 'Year', 'Occurrences': 'Observations'},\n",
    "              color_discrete_sequence=['#B14E20'])  # Color for the line\n",
    "\n",
    "# Update layout for better visualization\n",
    "fig.update_layout(\n",
    "    xaxis_title='Year',\n",
    "    yaxis_title='Observations'\n",
    ")\n",
    "\n",
    "fig.update_layout(\n",
    "    plot_bgcolor='#D8D1CD',   # Plot area background\n",
    "    paper_bgcolor='white',  # Entire figure background\n",
    "    font=dict(\n",
    "        family='Helvetica, sans-serif',\n",
    "        size=16,\n",
    "        color='#2B2725'\n",
    "    ),\n",
    "    title_font=dict(\n",
    "        size=20,\n",
    "        family='Helvetica',\n",
    "        color='#2B2725'\n",
    "    )\n",
    ")\n",
    "\n",
    "fig.write_html(DATA_DIRECTORY / \"squirrel_chart.html\")\n",
    "\n",
    "# Show the figure\n",
    "fig.show()\n",
    "\n"
   ]
  },
  {
   "cell_type": "code",
   "execution_count": null,
   "id": "f4c1c8a6-9800-42a7-82a4-2204cd21d61e",
   "metadata": {},
   "outputs": [],
   "source": [
    "# map of the most common type? Map of the amount of bird ringings? "
   ]
  },
  {
   "cell_type": "code",
   "execution_count": null,
   "id": "e53ca266-c860-4c37-aa69-ade49616fc73",
   "metadata": {},
   "outputs": [],
   "source": [
    "# code"
   ]
  },
  {
   "cell_type": "code",
   "execution_count": null,
   "id": "8d94d8af-bfad-4984-81a0-01bd20d46861",
   "metadata": {},
   "outputs": [],
   "source": [
    "# interactive map of something"
   ]
  },
  {
   "cell_type": "code",
   "execution_count": null,
   "id": "d762ad38-9e6a-4534-b95b-61e4d9dd7e69",
   "metadata": {},
   "outputs": [],
   "source": [
    "# code"
   ]
  }
 ],
 "metadata": {
  "kernelspec": {
   "display_name": "Python 3 (ipykernel)",
   "language": "python",
   "name": "python3"
  },
  "language_info": {
   "codemirror_mode": {
    "name": "ipython",
    "version": 3
   },
   "file_extension": ".py",
   "mimetype": "text/x-python",
   "name": "python",
   "nbconvert_exporter": "python",
   "pygments_lexer": "ipython3",
   "version": "3.11.7"
  }
 },
 "nbformat": 4,
 "nbformat_minor": 5
}
