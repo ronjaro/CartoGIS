{
 "cells": [
  {
   "cell_type": "markdown",
   "id": "eeb4cc21-46c7-4737-8ebe-c0e17bc22664",
   "metadata": {},
   "source": [
    "This is a test notebook"
   ]
  },
  {
   "cell_type": "code",
   "execution_count": 1,
   "id": "9d28ebbe-7d7b-468e-b535-60887fc0bd51",
   "metadata": {},
   "outputs": [],
   "source": [
    "data = [1, 3, 4, 54, 21, 3, 41, 5]"
   ]
  },
  {
   "cell_type": "code",
   "execution_count": 2,
   "id": "88d2df2e-fc55-433c-8638-25994ccc5cf2",
   "metadata": {},
   "outputs": [
    {
     "data": {
      "text/plain": [
       "[1, 3, 4, 54, 21, 3, 41, 5]"
      ]
     },
     "execution_count": 2,
     "metadata": {},
     "output_type": "execute_result"
    }
   ],
   "source": [
    "data"
   ]
  },
  {
   "cell_type": "code",
   "execution_count": 3,
   "id": "4eb47e7e-2f46-4579-9f83-c618dfd89a47",
   "metadata": {},
   "outputs": [
    {
     "data": {
      "text/plain": [
       "132"
      ]
     },
     "execution_count": 3,
     "metadata": {},
     "output_type": "execute_result"
    }
   ],
   "source": [
    "sum(data)"
   ]
  },
  {
   "cell_type": "code",
   "execution_count": 5,
   "id": "431d6e02-c1e3-424a-886d-ae4f12503d76",
   "metadata": {},
   "outputs": [
    {
     "data": {
      "text/plain": [
       "1"
      ]
     },
     "execution_count": 5,
     "metadata": {},
     "output_type": "execute_result"
    }
   ],
   "source": [
    "min(data)\n"
   ]
  },
  {
   "cell_type": "code",
   "execution_count": null,
   "id": "c91b421a-8db2-44a4-9348-d7e97bafc6cb",
   "metadata": {},
   "outputs": [],
   "source": []
  }
 ],
 "metadata": {
  "kernelspec": {
   "display_name": "Python 3 (ipykernel)",
   "language": "python",
   "name": "python3"
  },
  "language_info": {
   "codemirror_mode": {
    "name": "ipython",
    "version": 3
   },
   "file_extension": ".py",
   "mimetype": "text/x-python",
   "name": "python",
   "nbconvert_exporter": "python",
   "pygments_lexer": "ipython3",
   "version": "3.11.7"
  }
 },
 "nbformat": 4,
 "nbformat_minor": 5
}
