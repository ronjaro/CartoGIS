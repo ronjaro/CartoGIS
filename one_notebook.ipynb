{
 "cells": [
  {
   "cell_type": "code",
   "execution_count": 1,
   "id": "8cfca1aa-8ec2-4d0a-9725-f2ee1c04e5c2",
   "metadata": {},
   "outputs": [],
   "source": [
    "# notebook 1\n",
    "\n",
    "\n",
    "list = [2, 4, 22, 2]"
   ]
  },
  {
   "cell_type": "code",
   "execution_count": null,
   "id": "a6c0dea6-e971-4d5c-b3a7-871dbee1c9d3",
   "metadata": {},
   "outputs": [],
   "source": []
  }
 ],
 "metadata": {
  "kernelspec": {
   "display_name": "Python 3 (ipykernel)",
   "language": "python",
   "name": "python3"
  },
  "language_info": {
   "codemirror_mode": {
    "name": "ipython",
    "version": 3
   },
   "file_extension": ".py",
   "mimetype": "text/x-python",
   "name": "python",
   "nbconvert_exporter": "python",
   "pygments_lexer": "ipython3",
   "version": "3.11.7"
  }
 },
 "nbformat": 4,
 "nbformat_minor": 5
}
