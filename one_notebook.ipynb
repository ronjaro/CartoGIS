{
 "cells": [
  {
   "cell_type": "code",
   "execution_count": null,
   "id": "8cfca1aa-8ec2-4d0a-9725-f2ee1c04e5c2",
   "metadata": {},
   "outputs": [],
   "source": [
    "# notebook 1"
   ]
  }
 ],
 "metadata": {
  "kernelspec": {
   "display_name": "Python 3 (ipykernel)",
   "language": "python",
   "name": "python3"
  },
  "language_info": {
   "codemirror_mode": {
    "name": "ipython",
    "version": 3
   },
   "file_extension": ".py",
   "mimetype": "text/x-python",
   "name": "python",
   "nbconvert_exporter": "python",
   "pygments_lexer": "ipython3",
   "version": "3.11.7"
  }
 },
 "nbformat": 4,
 "nbformat_minor": 5
}
