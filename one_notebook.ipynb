{
 "cells": [
  {
   "cell_type": "code",
   "execution_count": 1,
   "id": "8cfca1aa-8ec2-4d0a-9725-f2ee1c04e5c2",
   "metadata": {},
   "outputs": [],
   "source": [
    "# notebook 1\n",
    "\n",
    "\n",
    "list = [2, 4, 22, 2]"
   ]
  },
  {
   "cell_type": "code",
   "execution_count": 1,
   "id": "a6c0dea6-e971-4d5c-b3a7-871dbee1c9d3",
   "metadata": {},
   "outputs": [],
   "source": [
    "second_list = [45, 3, 2, 43, 6, 76]"
   ]
  },
  {
   "cell_type": "code",
   "execution_count": 2,
   "id": "fe1e2e92-151f-4aea-a040-b4ec626ddd23",
   "metadata": {},
   "outputs": [],
   "source": [
    "# testing notebook github"
   ]
  },
  {
   "cell_type": "code",
   "execution_count": null,
   "id": "8068c4d5-8e55-497f-8ead-23d2ca15b453",
   "metadata": {},
   "outputs": [],
   "source": []
  }
 ],
 "metadata": {
  "kernelspec": {
   "display_name": "Python 3 (ipykernel)",
   "language": "python",
   "name": "python3"
  },
  "language_info": {
   "codemirror_mode": {
    "name": "ipython",
    "version": 3
   },
   "file_extension": ".py",
   "mimetype": "text/x-python",
   "name": "python",
   "nbconvert_exporter": "python",
   "pygments_lexer": "ipython3",
   "version": "3.11.7"
  }
 },
 "nbformat": 4,
 "nbformat_minor": 5
}
