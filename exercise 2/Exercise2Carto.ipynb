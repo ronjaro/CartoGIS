{
 "cells": [
  {
   "cell_type": "code",
   "execution_count": 1,
   "id": "8b06fdc1-7c6f-438a-8ca8-c006e70dd4fa",
   "metadata": {},
   "outputs": [],
   "source": [
    "# this is for exercise 2\n"
   ]
  },
  {
   "cell_type": "code",
   "execution_count": null,
   "id": "165968c7-0965-4d4e-adda-0810c91f11d7",
   "metadata": {},
   "outputs": [],
   "source": []
  }
 ],
 "metadata": {
  "kernelspec": {
   "display_name": "Python 3 (ipykernel)",
   "language": "python",
   "name": "python3"
  },
  "language_info": {
   "codemirror_mode": {
    "name": "ipython",
    "version": 3
   },
   "file_extension": ".py",
   "mimetype": "text/x-python",
   "name": "python",
   "nbconvert_exporter": "python",
   "pygments_lexer": "ipython3",
   "version": "3.11.7"
  }
 },
 "nbformat": 4,
 "nbformat_minor": 5
}
