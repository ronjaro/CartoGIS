{
 "cells": [
  {
   "cell_type": "code",
   "execution_count": 1,
   "id": "8b06fdc1-7c6f-438a-8ca8-c006e70dd4fa",
   "metadata": {},
   "outputs": [],
   "source": [
    "# this is for exercise 2\n"
   ]
  },
  {
   "cell_type": "code",
   "execution_count": 1,
   "id": "165968c7-0965-4d4e-adda-0810c91f11d7",
   "metadata": {},
   "outputs": [],
   "source": [
    "x = 3\n"
   ]
  },
  {
   "cell_type": "code",
   "execution_count": 2,
   "id": "946f7b85-8b0f-4ca6-81e2-561acb27607b",
   "metadata": {},
   "outputs": [
    {
     "data": {
      "text/plain": [
       "15"
      ]
     },
     "execution_count": 2,
     "metadata": {},
     "output_type": "execute_result"
    }
   ],
   "source": [
    "x * 5"
   ]
  },
  {
   "cell_type": "code",
   "execution_count": 1,
   "id": "0707d68c-12da-4a4b-9093-37b6c5ac6fe7",
   "metadata": {},
   "outputs": [],
   "source": [
    "nine = 9"
   ]
  },
  {
   "cell_type": "code",
   "execution_count": 2,
   "id": "d825a4ff-1882-468e-8c7e-359ae4feaa4f",
   "metadata": {},
   "outputs": [],
   "source": [
    "number = nine + 2"
   ]
  },
  {
   "cell_type": "code",
   "execution_count": 3,
   "id": "1cc2c450-6eab-4a42-8a91-8c4b34f65236",
   "metadata": {},
   "outputs": [
    {
     "name": "stdout",
     "output_type": "stream",
     "text": [
      "11\n"
     ]
    }
   ],
   "source": [
    "print(number)"
   ]
  },
  {
   "cell_type": "code",
   "execution_count": null,
   "id": "52869998-53e3-481f-9aef-b08efcb28099",
   "metadata": {},
   "outputs": [],
   "source": []
  }
 ],
 "metadata": {
  "kernelspec": {
   "display_name": "Python 3 (ipykernel)",
   "language": "python",
   "name": "python3"
  },
  "language_info": {
   "codemirror_mode": {
    "name": "ipython",
    "version": 3
   },
   "file_extension": ".py",
   "mimetype": "text/x-python",
   "name": "python",
   "nbconvert_exporter": "python",
   "pygments_lexer": "ipython3",
   "version": "3.11.7"
  }
 },
 "nbformat": 4,
 "nbformat_minor": 5
}
